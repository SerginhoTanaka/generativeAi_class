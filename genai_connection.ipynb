{
 "cells": [
  {
   "cell_type": "markdown",
   "metadata": {},
   "source": [
    "### Instalando bibliotecas"
   ]
  },
  {
   "cell_type": "code",
   "execution_count": null,
   "metadata": {},
   "outputs": [],
   "source": [
    "%pip install langchain\n",
    "%pip install langchain-openai\n",
    "%pip install langchain-community\n",
    "%pip install python-dotenv\n",
    "%pip install openai\n"
   ]
  },
  {
   "cell_type": "markdown",
   "metadata": {},
   "source": [
    "### Importando as bibliotecas "
   ]
  },
  {
   "cell_type": "code",
   "execution_count": 7,
   "metadata": {},
   "outputs": [],
   "source": [
    "from langchain_openai import ChatOpenAI\n",
    "from langchain.prompts import PromptTemplate\n",
    "from langchain.chains import LLMChain\n",
    "import os\n",
    "from dotenv import load_dotenv\n",
    "from langchain_core.output_parsers import StrOutputParser\n"
   ]
  },
  {
   "cell_type": "markdown",
   "metadata": {},
   "source": [
    "#### Carregando as variaveis de ambiente"
   ]
  },
  {
   "cell_type": "code",
   "execution_count": 8,
   "metadata": {},
   "outputs": [],
   "source": [
    "load_dotenv()\n",
    "api_key = os.getenv(\"OPENAI_API_KEY\")"
   ]
  },
  {
   "cell_type": "markdown",
   "metadata": {},
   "source": [
    "#### Instanciando ChatOpenAI, classe referende a LLm da Openai"
   ]
  },
  {
   "cell_type": "code",
   "execution_count": 9,
   "metadata": {},
   "outputs": [],
   "source": [
    "llm = ChatOpenAI(model_name=\"gpt-3.5-turbo\", openai_api_key=api_key)"
   ]
  },
  {
   "cell_type": "markdown",
   "metadata": {},
   "source": [
    "#### Escrevendo um simples prompt para enviar para a nossa LLM "
   ]
  },
  {
   "cell_type": "code",
   "execution_count": 10,
   "metadata": {},
   "outputs": [],
   "source": [
    "prompt = PromptTemplate(\n",
    "    input_variables=[\"topic\"],\n",
    "    template=\"Escreva um texto sobre o seguinte tópico: {topic}\"\n",
    ")"
   ]
  },
  {
   "cell_type": "markdown",
   "metadata": {},
   "source": [
    "#### Criando uma cadeia Legacy "
   ]
  },
  {
   "cell_type": "code",
   "execution_count": 11,
   "metadata": {},
   "outputs": [],
   "source": [
    "chain = LLMChain(llm=llm, prompt=prompt)\n"
   ]
  },
  {
   "cell_type": "code",
   "execution_count": 12,
   "metadata": {},
   "outputs": [
    {
     "name": "stdout",
     "output_type": "stream",
     "text": [
      "{'topic': 'inteligência artificial', 'text': 'A inteligência artificial é uma das maiores revoluções tecnológicas dos últimos tempos. Com o avanço da tecnologia, os computadores e sistemas estão sendo programados para realizar tarefas que antes eram exclusivas dos seres humanos, como aprender, tomar decisões e solucionar problemas.\\n\\nA inteligência artificial é baseada em algoritmos e redes neurais que permitem aos computadores processar grandes quantidades de dados e identificar padrões, tornando-os capazes de aprender e melhorar suas próprias habilidades ao longo do tempo. Isso tem levado a avanços significativos em áreas como medicina, finanças, transporte e entretenimento, impactando positivamente a vida das pessoas em todo o mundo.\\n\\nNo entanto, a inteligência artificial também levanta questões éticas e sociais importantes. Há preocupações sobre o impacto da automação no mercado de trabalho, a privacidade dos dados dos usuários e o potencial de viés e discriminação nos algoritmos. Por isso, é essencial que haja regulamentações e controles adequados para garantir que a inteligência artificial seja usada de forma responsável e ética.\\n\\nApesar dos desafios, a inteligência artificial tem um potencial enorme para transformar a sociedade e impulsionar o desenvolvimento humano. Com o avanço da tecnologia e a colaboração entre diferentes setores, podemos aproveitar ao máximo os benefícios da inteligência artificial e criar um futuro mais conectado, eficiente e inclusivo para todos.'}\n"
     ]
    }
   ],
   "source": [
    "response = chain.invoke(\"inteligência artificial\")\n",
    "print(response)"
   ]
  },
  {
   "cell_type": "code",
   "execution_count": 7,
   "metadata": {},
   "outputs": [
    {
     "data": {
      "text/plain": [
       "'A inteligência artificial é uma área da computação que se dedica a criar sistemas capazes de realizar tarefas que, normalmente, exigiriam a inteligência humana. Esses sistemas são capazes de aprender, raciocinar, perceber e tomar decisões com base em dados e informações.\\n\\nA inteligência artificial tem sido cada vez mais utilizada em diversos setores da sociedade, desde o uso em assistentes virtuais como a Siri e a Alexa, até em veículos autônomos, diagnósticos médicos e análise de dados em grandes empresas.\\n\\nApesar de trazer inúmeras vantagens, como a automação de tarefas repetitivas e a melhoria na eficiência de processos, a inteligência artificial também levanta questões éticas e morais. Por exemplo, o uso de algoritmos em processos de seleção de emprego pode resultar em discriminação injusta, se não forem devidamente supervisionados e regulamentados.\\n\\nAlém disso, há o temor de que a inteligência artificial possa eventualmente ultrapassar a capacidade humana de controle, levando a cenários de ficção científica onde máquinas inteligentes tomam decisões autônomas que podem prejudicar a humanidade.\\n\\nPor isso, é fundamental que o desenvolvimento e o uso da inteligência artificial sejam realizados de forma ética e responsável, com a devida supervisão e regulamentação para garantir que os benefícios superem os riscos potenciais. A inteligência artificial tem o potencial de revolucionar a forma como vivemos e trabalhamos, mas é importante que seja utilizada de maneira consciente e com cautela.'"
      ]
     },
     "execution_count": 7,
     "metadata": {},
     "output_type": "execute_result"
    }
   ],
   "source": [
    "response['text']"
   ]
  },
  {
   "cell_type": "markdown",
   "metadata": {},
   "source": [
    "#### Criando uma cadeia LCEL "
   ]
  },
  {
   "cell_type": "code",
   "execution_count": 8,
   "metadata": {},
   "outputs": [],
   "source": [
    "chain2 = prompt | llm | StrOutputParser()\n"
   ]
  },
  {
   "cell_type": "code",
   "execution_count": 9,
   "metadata": {},
   "outputs": [
    {
     "data": {
      "text/plain": [
       "'A inteligência artificial é uma área da ciência da computação que se dedica a desenvolver sistemas capazes de realizar tarefas que, normalmente, exigiriam a inteligência humana. Esses sistemas são capazes de aprender, raciocinar, tomar decisões e até mesmo interagir com seres humanos de forma natural.\\n\\nA inteligência artificial tem se mostrado cada vez mais presente em nosso dia a dia, sendo utilizada em diversos setores, como na medicina, na indústria, no comércio e até mesmo na área de entretenimento. Com o avanço da tecnologia, os sistemas de inteligência artificial estão se tornando cada vez mais sofisticados e eficientes, sendo capazes de realizar tarefas com uma precisão e rapidez impressionantes.\\n\\nNo entanto, é importante ressaltar que a inteligência artificial também traz consigo desafios e dilemas éticos. A questão da privacidade dos dados, a possível substituição de empregos por máquinas inteligentes e até mesmo a questão da responsabilidade em caso de erros são temas que precisam ser discutidos e regulamentados.\\n\\nApesar dos desafios, a inteligência artificial tem um potencial enorme para impactar positivamente a sociedade, trazendo soluções inovadoras para problemas complexos e contribuindo para o avanço da ciência e da tecnologia. É importante que os avanços nessa área sejam feitos de forma responsável e ética, garantindo que a inteligência artificial seja utilizada para o bem da humanidade e não para prejudicá-la.'"
      ]
     },
     "execution_count": 9,
     "metadata": {},
     "output_type": "execute_result"
    }
   ],
   "source": [
    "chain2.invoke(\"inteligência artificial\")"
   ]
  }
 ],
 "metadata": {
  "kernelspec": {
   "display_name": "env",
   "language": "python",
   "name": "python3"
  },
  "language_info": {
   "codemirror_mode": {
    "name": "ipython",
    "version": 3
   },
   "file_extension": ".py",
   "mimetype": "text/x-python",
   "name": "python",
   "nbconvert_exporter": "python",
   "pygments_lexer": "ipython3",
   "version": "3.11.6"
  }
 },
 "nbformat": 4,
 "nbformat_minor": 2
}
